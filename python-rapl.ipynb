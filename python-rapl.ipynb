{
 "cells": [
  {
   "cell_type": "markdown",
   "metadata": {},
   "source": [
    "Python port of \"A simple Intel RAPL reader library\" by Kaz Yoshii <ky@anl.gov> from https://github.com/coolr-hpc/intercoolr"
   ]
  },
  {
   "cell_type": "code",
   "execution_count": 1,
   "metadata": {
    "collapsed": true
   },
   "outputs": [],
   "source": [
    "import os\n",
    "import time\n",
    "import functools"
   ]
  },
  {
   "cell_type": "code",
   "execution_count": 2,
   "metadata": {
    "collapsed": true
   },
   "outputs": [],
   "source": [
    "RAPLBASEPATH = \"/sys/devices/virtual/powercap/intel-rapl/\"\n",
    "\n",
    "def read_int(fn):\n",
    "    with open(fn, 'r') as fp:\n",
    "        buf = fp.read()\n",
    "    return int(buf.strip())\n",
    "\n",
    "\n",
    "def read_str(fn):\n",
    "    with open(fn, 'r') as fp:\n",
    "        buf = fp.read()\n",
    "    return buf\n",
    "\n",
    "\n",
    "def check_readable(func):\n",
    "    \"\"\"Filters output path of func to be None if it's not readable\"\"\"\n",
    "    @functools.wraps(func)\n",
    "    def _check_readable(*args, **kwargs):\n",
    "        path = func(*args, **kwargs)\n",
    "        if not os.access(path, os.R_OK):\n",
    "            return None\n",
    "        return path\n",
    "    \n",
    "    return _check_readable\n",
    "    \n",
    "\n",
    "@check_readable\n",
    "def getpath_sysfs_top(n, fn):\n",
    "    path = os.path.join(\n",
    "        RAPLBASEPATH, \n",
    "        'intel-rapl:{:d}'.format(n), \n",
    "        fn,\n",
    "    )\n",
    "    return path\n",
    "\n",
    "\n",
    "@check_readable\n",
    "def getpath_sysfs_sub(n, subn, fn):\n",
    "    path = os.path.join(\n",
    "        RAPLBASEPATH, \n",
    "        'intel-rapl:{:d}'.format(n), \n",
    "        'intel-rapl:{:d}:{:d}'.format(n, subn), \n",
    "        fn,\n",
    "    )\n",
    "    return path"
   ]
  },
  {
   "cell_type": "code",
   "execution_count": 3,
   "metadata": {
    "collapsed": false
   },
   "outputs": [
    {
     "data": {
      "text/plain": [
       "'/sys/devices/virtual/powercap/intel-rapl/intel-rapl:0/energy_uj'"
      ]
     },
     "execution_count": 3,
     "metadata": {},
     "output_type": "execute_result"
    }
   ],
   "source": [
    "getpath_sysfs_top(0, 'energy_uj')"
   ]
  },
  {
   "cell_type": "code",
   "execution_count": 4,
   "metadata": {
    "collapsed": false
   },
   "outputs": [],
   "source": [
    "assert getpath_sysfs_top(0, 'energy_uj_asdf') is None"
   ]
  },
  {
   "cell_type": "code",
   "execution_count": 5,
   "metadata": {
    "collapsed": false
   },
   "outputs": [
    {
     "data": {
      "text/plain": [
       "84259128479"
      ]
     },
     "execution_count": 5,
     "metadata": {},
     "output_type": "execute_result"
    }
   ],
   "source": [
    "read_int(getpath_sysfs_top(0, 'energy_uj'))"
   ]
  },
  {
   "cell_type": "code",
   "execution_count": 6,
   "metadata": {
    "collapsed": false
   },
   "outputs": [
    {
     "data": {
      "text/plain": [
       "'dram\\n'"
      ]
     },
     "execution_count": 6,
     "metadata": {},
     "output_type": "execute_result"
    }
   ],
   "source": [
    "read_str(getpath_sysfs_sub(0, 0, 'name'))"
   ]
  },
  {
   "cell_type": "code",
   "execution_count": 7,
   "metadata": {
    "collapsed": true
   },
   "outputs": [],
   "source": [
    "def unwrap(previous, current, maximum):\n",
    "    \"\"\"\n",
    "    Correct the difference from the previous to current value \n",
    "    that wraps back to zero at maximum\n",
    "    \"\"\"\n",
    "    if current >= previous:\n",
    "        return current - previous\n",
    "    \n",
    "    return current + maximum - previous\n",
    "\n",
    "assert unwrap(10, 15, 20) == 5\n",
    "assert unwrap(10, 10, 20) == 0\n",
    "assert unwrap(10, 5, 20) == 15"
   ]
  },
  {
   "cell_type": "code",
   "execution_count": 8,
   "metadata": {
    "collapsed": false
   },
   "outputs": [],
   "source": [
    "class RaplReader(object):\n",
    "    \"\"\"Interface to read RAPL values from the processor\"\"\"\n",
    "    \n",
    "    MAX_SOCKETS = 8\n",
    "\n",
    "    def __init__(self):\n",
    "        self.n_sockets = 0\n",
    "        \n",
    "        self.socket_fn = []\n",
    "        # self.socket_fn_max = []\n",
    "        self.socket_max = []\n",
    "        self.socket_prev = []\n",
    "        self.socket_hasdram = []\n",
    "        \n",
    "        self.dram_fn = []\n",
    "        # self.dram_fn_max = []\n",
    "        self.dram_max = []\n",
    "        self.dram_prev = []\n",
    "        \n",
    "        # detect how many sockets\n",
    "        self.n_sockets = self._scan_sockets()\n",
    "    \n",
    "        self.sample(init=True) # sample once here. then the next sample can yield correct diff\n",
    "        #time.sleep(0.01)\n",
    "\n",
    "    def _scan_sockets(self):\n",
    "        for socket in range(self.MAX_SOCKETS):\n",
    "            path = getpath_sysfs_top(socket, 'energy_uj')\n",
    "            if path is None:\n",
    "                break\n",
    "\n",
    "            self.socket_fn.append(path)\n",
    "            \n",
    "            path = getpath_sysfs_top(socket, 'max_energy_range_uj')\n",
    "            if path is None:\n",
    "                raise RuntimeError('unknown energy max on socket {}'.format(socket))\n",
    "            # self.socket_fn_max.append(path)\n",
    "            self.socket_max.append(read_int(path))\n",
    "            self.socket_prev.append(None)\n",
    "\n",
    "            self.socket_hasdram.append(self._scan_socket_dram(socket))\n",
    "            \n",
    "        return socket\n",
    "            \n",
    "    def _scan_socket_dram(self, socket):\n",
    "        # check if there are any dram entries\n",
    "        for subn in range(4):\n",
    "            path = getpath_sysfs_sub(socket, subn, 'name')\n",
    "            if path is None:\n",
    "                continue\n",
    "\n",
    "            if read_str(path).strip() == 'dram':\n",
    "                break\n",
    "        else:\n",
    "            self.dram_fn.append(None)\n",
    "            self.dram_max.append(None)\n",
    "            self.dram_prev.append(None)\n",
    "            return False\n",
    "\n",
    "        path = getpath_sysfs_sub(socket, subn, 'energy_uj')\n",
    "        if path is None:\n",
    "            raise RuntimeError()\n",
    "        self.dram_fn.append(path)\n",
    "\n",
    "        path = getpath_sysfs_sub(socket, subn, 'max_energy_range_uj')\n",
    "        if path is None:\n",
    "            raise RuntimeError()\n",
    "        # self.dram_fn_max.append(path)\n",
    "        self.dram_max.append(read_int(path))\n",
    "        self.dram_prev.append(None)\n",
    "        \n",
    "        return True\n",
    "\n",
    "    def sample(self, init=False):\n",
    "        results = {}\n",
    "        for n_socket, path in enumerate(self.socket_fn):\n",
    "            rsock = results['socket{}'.format(n_socket)] = {}\n",
    "            \n",
    "            sample = self._sample_device(n_socket, init=init)\n",
    "            if not init:\n",
    "                dt, dE = sample\n",
    "                rsock['cpu'] = {'s': dt, 'J': dE}\n",
    "                    \n",
    "            if self.socket_hasdram[n_socket]:\n",
    "                sample = self._sample_device(n_socket, dram=True, init=init)\n",
    "                if not init:\n",
    "                    dt, dE = sample\n",
    "                    rsock['dram'] = {'s': dt, 'J': dE}\n",
    "        \n",
    "        return results\n",
    "        \n",
    "    def _sample_device(self, socket, dram=False, init=False):\n",
    "        path = (self.socket_fn if not dram else self.dram_fn)[socket]\n",
    "        prev_l = (self.socket_prev if not dram else self.dram_prev)\n",
    "        max_ = (self.socket_max if not dram else self.dram_max)[socket]\n",
    "        \n",
    "        t = time.monotonic()\n",
    "#         E = read_uint64(path)\n",
    "        with open(path, 'r') as f:\n",
    "            E = int(f.read())\n",
    "        \n",
    "        prev = prev_l[socket]\n",
    "        prev_l[socket] = t, E\n",
    "        \n",
    "        if not init:\n",
    "            t0, E0 = prev\n",
    "            dt = t - t0\n",
    "            dE = unwrap(E0, E, max_)\n",
    "            return dt, dE / 1e6"
   ]
  },
  {
   "cell_type": "code",
   "execution_count": 9,
   "metadata": {
    "collapsed": false
   },
   "outputs": [
    {
     "data": {
      "text/plain": [
       "{'dram_fn': ['/sys/devices/virtual/powercap/intel-rapl/intel-rapl:0/intel-rapl:0:0/energy_uj',\n",
       "  '/sys/devices/virtual/powercap/intel-rapl/intel-rapl:1/intel-rapl:1:0/energy_uj'],\n",
       " 'dram_max': [262143999938, 262143999938],\n",
       " 'dram_prev': [(23661.951094754, 65641145202), (23661.951217311, 64649115478)],\n",
       " 'n_sockets': 2,\n",
       " 'socket_fn': ['/sys/devices/virtual/powercap/intel-rapl/intel-rapl:0/energy_uj',\n",
       "  '/sys/devices/virtual/powercap/intel-rapl/intel-rapl:1/energy_uj'],\n",
       " 'socket_hasdram': [True, True],\n",
       " 'socket_max': [262143999938, 262143999938],\n",
       " 'socket_prev': [(23661.951032049, 84345945678),\n",
       "  (23661.951149979, 120625566833)]}"
      ]
     },
     "execution_count": 9,
     "metadata": {},
     "output_type": "execute_result"
    }
   ],
   "source": [
    "rr = RaplReader()\n",
    "vars(rr)"
   ]
  },
  {
   "cell_type": "code",
   "execution_count": 14,
   "metadata": {
    "collapsed": false
   },
   "outputs": [
    {
     "name": "stdout",
     "output_type": "stream",
     "text": [
      "7.920349 joules burnt from \"first open/last read\" to mid read\n",
      "0.198008725 estimated seconds\n"
     ]
    }
   ],
   "source": [
    "p = '/sys/devices/virtual/powercap/intel-rapl/intel-rapl:0/energy_uj'\n",
    "\n",
    "semi_idle_uW = 40e6\n",
    "\n",
    "bits = ''\n",
    "with open(p, 'r') as f:\n",
    "    for i in range(100):\n",
    "        c = f.read(1)\n",
    "        if not c:\n",
    "            break\n",
    "        if i == 2:\n",
    "            with open(p, 'r') as f2:\n",
    "                mid = f2.read()\n",
    "        bits += c\n",
    "        time.sleep(0.1)\n",
    "        \n",
    "uJ = int(mid) - int(bits)\n",
    "print(uJ / 1e6, 'joules burnt from \"first open/last read\" to mid read')\n",
    "print(uJ / semi_idle_uW, 'estimated seconds')"
   ]
  },
  {
   "cell_type": "markdown",
   "metadata": {},
   "source": [
    "It looks like when the file is opened it is immediately 'filled' by the driver with the number. The bytes wouldn't seem to change in an open handle."
   ]
  },
  {
   "cell_type": "code",
   "execution_count": 27,
   "metadata": {
    "collapsed": false
   },
   "outputs": [],
   "source": [
    "%matplotlib inline\n",
    "import matplotlib.pyplot as plt\n",
    "import numpy as np"
   ]
  },
  {
   "cell_type": "code",
   "execution_count": 45,
   "metadata": {
    "collapsed": false
   },
   "outputs": [],
   "source": [
    "samples = []\n",
    "time.sleep(0.1 - time.monotonic() % 0.1)\n",
    "rr.sample()\n",
    "for x in range(10):\n",
    "    time.sleep(0.1 - time.monotonic() % 0.1)\n",
    "    samples.append(rr.sample())"
   ]
  },
  {
   "cell_type": "code",
   "execution_count": 47,
   "metadata": {
    "collapsed": false,
    "scrolled": false
   },
   "outputs": [
    {
     "data": {
      "text/plain": [
       "<matplotlib.legend.Legend at 0x7ff09701f470>"
      ]
     },
     "execution_count": 47,
     "metadata": {},
     "output_type": "execute_result"
    },
    {
     "data": {
      "image/png": "[encoded data removed]",
      "text/plain": [
       "<matplotlib.figure.Figure at 0x7ff09701f390>"
      ]
     },
     "metadata": {},
     "output_type": "display_data"
    }
   ],
   "source": [
    "f, ax = plt.subplots()\n",
    "for socket, color in zip(samples[0], ['xkcd:royal blue', 'xkcd:baby blue']):\n",
    "    cpu_samples = [s[socket]['cpu'] for s in samples]\n",
    "    times = np.cumsum([cs['s'] for cs in cpu_samples])\n",
    "    cpu_power = [cs['J'] / cs['s'] for cs in cpu_samples]\n",
    "    plt.plot(times, cpu_power, label='Socket {}'.format(socket[-1]), color=color)\n",
    "    \n",
    "for socket, color in zip(samples[0], ['xkcd:ochre', 'xkcd:goldenrod']):\n",
    "    cpu_samples = [s[socket]['dram'] for s in samples]\n",
    "    times = np.cumsum([cs['s'] for cs in cpu_samples])\n",
    "    cpu_power = [cs['J'] / cs['s'] for cs in cpu_samples]\n",
    "    plt.plot(times, cpu_power, label='DRAM {}'.format(socket[-1]), color=color)\n",
    "    \n",
    "ax.set_ylabel('Power (W)')\n",
    "ax.set_xlabel('Time (s)')\n",
    "ax.legend()"
   ]
  },
  {
   "cell_type": "code",
   "execution_count": null,
   "metadata": {
    "collapsed": true
   },
   "outputs": [],
   "source": []
  }
 ],
 "metadata": {
  "kernelspec": {
   "display_name": "Python 3",
   "language": "python",
   "name": "python3"
  },
  "language_info": {
   "codemirror_mode": {
    "name": "ipython",
    "version": 3
   },
   "file_extension": ".py",
   "mimetype": "text/x-python",
   "name": "python",
   "nbconvert_exporter": "python",
   "pygments_lexer": "ipython3",
   "version": "3.6.0rc1"
  }
 },
 "nbformat": 4,
 "nbformat_minor": 2
}
