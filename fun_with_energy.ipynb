{
 "cells": [
  {
   "cell_type": "code",
   "execution_count": 1,
   "metadata": {
    "collapsed": false
   },
   "outputs": [],
   "source": [
    "%matplotlib inline"
   ]
  },
  {
   "cell_type": "code",
   "execution_count": 2,
   "metadata": {
    "collapsed": true
   },
   "outputs": [],
   "source": [
    "from fabric import api as fapi\n",
    "from fabric import network as fnet\n",
    "from fabric import state as fstate\n",
    "\n",
    "import matplotlib.pyplot as plt"
   ]
  },
  {
   "cell_type": "code",
   "execution_count": 3,
   "metadata": {
    "collapsed": true
   },
   "outputs": [],
   "source": [
    "fapi.env.user = 'cc'\n",
    "fapi.env.host_string = '129.114.109.207'"
   ]
  },
  {
   "cell_type": "markdown",
   "metadata": {},
   "source": [
    "# Setup\n",
    "\n",
    "## Intercoolr\n",
    "\n",
    "https://github.com/coolr-hpc/intercoolr"
   ]
  },
  {
   "cell_type": "code",
   "execution_count": 4,
   "metadata": {
    "collapsed": false
   },
   "outputs": [],
   "source": [
    "with fapi.quiet():\n",
    "    fapi.run('git clone https://github.com/coolr-hpc/intercoolr.git')\n",
    "    fapi.run('cd intercoolr && make all')"
   ]
  },
  {
   "cell_type": "code",
   "execution_count": 5,
   "metadata": {
    "collapsed": false
   },
   "outputs": [
    {
     "name": "stdout",
     "output_type": "stream",
     "text": [
      "Usage: etrace2 [options] [command]\r\n",
      "\r\n",
      "[Options]\r\n",
      "\t-i sec : interval\r\n",
      "\t-t sec : timeout\r\n",
      "\t-o filename : output filename\r\n",
      "\t-r : relative time, instead of epoch\r\n",
      "\r\n",
      "[usage examples]\r\n",
      "\r\n",
      "# spawn your program and print energy consumption \r\n",
      "$ ./etrace2 your_program\r\n",
      "\r\n",
      "# also print power consumption every 0.5 sec\r\n",
      "$ ./etrace2 -i 0.5  your_program\r\n",
      "\r\n",
      "# just print power consumption every 1sec for 10sec\r\n",
      "$ ./etrace2 -i 1.0 -t 10\n"
     ]
    }
   ],
   "source": [
    "print(fapi.run('./intercoolr/etrace2 -h', quiet=True))"
   ]
  },
  {
   "cell_type": "markdown",
   "metadata": {},
   "source": [
    "## Stress\n",
    "\n",
    "http://people.seas.harvard.edu/~apw/stress/"
   ]
  },
  {
   "cell_type": "code",
   "execution_count": 6,
   "metadata": {
    "collapsed": false
   },
   "outputs": [],
   "source": [
    "with fapi.quiet():\n",
    "    fapi.run('curl http://people.seas.harvard.edu/~apw/stress/stress-1.0.4.tar.gz | tar xz')\n",
    "    fapi.run('cd stress-1.0.4 && ./configure && make && sudo make install')"
   ]
  },
  {
   "cell_type": "code",
   "execution_count": 7,
   "metadata": {
    "collapsed": false
   },
   "outputs": [
    {
     "name": "stdout",
     "output_type": "stream",
     "text": [
      "`stress' imposes certain types of compute stress on your system\r\n",
      "\r\n",
      "Usage: stress [OPTION [ARG]] ...\r\n",
      " -?, --help         show this help statement\r\n",
      "     --version      show version statement\r\n",
      " -v, --verbose      be verbose\r\n",
      " -q, --quiet        be quiet\r\n",
      " -n, --dry-run      show what would have been done\r\n",
      " -t, --timeout N    timeout after N seconds\r\n",
      "     --backoff N    wait factor of N microseconds before work starts\r\n",
      " -c, --cpu N        spawn N workers spinning on sqrt()\r\n",
      " -i, --io N         spawn N workers spinning on sync()\r\n",
      " -m, --vm N         spawn N workers spinning on malloc()/free()\r\n",
      "     --vm-bytes B   malloc B bytes per vm worker (default is 256MB)\r\n",
      "     --vm-stride B  touch a byte every B bytes (default is 4096)\r\n",
      "     --vm-hang N    sleep N secs before free (default none, 0 is inf)\r\n",
      "     --vm-keep      redirty memory instead of freeing and reallocating\r\n",
      " -d, --hdd N        spawn N workers spinning on write()/unlink()\r\n",
      "     --hdd-bytes B  write B bytes per hdd worker (default is 1GB)\r\n",
      "\r\n",
      "Example: stress --cpu 8 --io 4 --vm 2 --vm-bytes 128M --timeout 10s\r\n",
      "\r\n",
      "Note: Numbers may be suffixed with s,m,h,d,y (time) or B,K,M,G (size).\n"
     ]
    }
   ],
   "source": [
    "print(fapi.run('stress --help', quiet=True))"
   ]
  },
  {
   "cell_type": "markdown",
   "metadata": {},
   "source": [
    "# Running"
   ]
  },
  {
   "cell_type": "code",
   "execution_count": 8,
   "metadata": {
    "collapsed": true
   },
   "outputs": [],
   "source": [
    "def etrace(cmd, extra=''):\n",
    "    return './intercoolr/etrace2 {} {}'.format(extra, cmd)"
   ]
  },
  {
   "cell_type": "code",
   "execution_count": 9,
   "metadata": {
    "collapsed": false
   },
   "outputs": [
    {
     "name": "stdout",
     "output_type": "stream",
     "text": [
      "./intercoolr/etrace2  sleep 5\n",
      "# ETRACE2_VERSION=0.1\n",
      "# ELAPSED=4.990521\n",
      "# ENERGY=631.490296\n",
      "# ENERGY_SOCKET0=182.429200\n",
      "# ENERGY_DRAM0=126.085999\n",
      "# ENERGY_SOCKET1=190.040161\n",
      "# ENERGY_DRAM1=134.287414\n"
     ]
    }
   ],
   "source": [
    "cmd = etrace('sleep 5')\n",
    "print(cmd)\n",
    "stdout = fapi.run(cmd, quiet=True)\n",
    "print(stdout)"
   ]
  },
  {
   "cell_type": "code",
   "execution_count": 10,
   "metadata": {
    "collapsed": false
   },
   "outputs": [
    {
     "name": "stdout",
     "output_type": "stream",
     "text": [
      "# ETRACE2_VERSION=0.1\r\n",
      "# ELAPSED=9.990736\r\n",
      "# ENERGY=1264.784241\r\n",
      "# ENERGY_SOCKET0=364.946228\r\n",
      "# ENERGY_DRAM0=252.321167\r\n",
      "# ENERGY_SOCKET1=379.966370\r\n",
      "# ENERGY_DRAM1=268.894165\n"
     ]
    }
   ],
   "source": [
    "stdout = fapi.run(etrace('sleep 10'), quiet=True)\n",
    "print(stdout)"
   ]
  },
  {
   "cell_type": "code",
   "execution_count": 11,
   "metadata": {
    "collapsed": true
   },
   "outputs": [],
   "source": [
    "def stress(t: int, cpu=None, memory=None, extra=''):\n",
    "    cmd = 'stress --timeout {}s'.format(t)\n",
    "    if cpu:\n",
    "        cmd += ' --cpu {}'.format(cpu)\n",
    "    if memory:\n",
    "        cmd += ' --vm {}'.format(memory)\n",
    "    if extra:\n",
    "        cmd += ' {}'.format(extra)\n",
    "    return cmd"
   ]
  },
  {
   "cell_type": "code",
   "execution_count": 12,
   "metadata": {
    "collapsed": true
   },
   "outputs": [],
   "source": [
    "def skim_trace(output):\n",
    "    trace = {}\n",
    "    other = []\n",
    "    for line in output.splitlines():\n",
    "        if line.startswith('# E'):\n",
    "            key, value = line.split('=')\n",
    "            key = key.lower().strip(' #')\n",
    "            value = float(value)\n",
    "            trace[key] = value\n",
    "        else:\n",
    "            other.append(line)\n",
    "            \n",
    "    return trace, '\\n'.join(other)"
   ]
  },
  {
   "cell_type": "code",
   "execution_count": 13,
   "metadata": {
    "collapsed": false
   },
   "outputs": [
    {
     "name": "stdout",
     "output_type": "stream",
     "text": [
      "./intercoolr/etrace2  stress --timeout 5s --cpu 48\n",
      "stress: info: [66153] dispatching hogs: 48 cpu, 0 io, 0 vm, 0 hdd\n",
      "stress: info: [66153] successful run completed in 5s\n"
     ]
    },
    {
     "data": {
      "text/plain": [
       "{'elapsed': 4.992135,\n",
       " 'energy': 1337.474059,\n",
       " 'energy_dram0': 127.157227,\n",
       " 'energy_dram1': 134.39502,\n",
       " 'energy_socket0': 529.417358,\n",
       " 'energy_socket1': 547.892578,\n",
       " 'etrace2_version': 0.1}"
      ]
     },
     "execution_count": 13,
     "metadata": {},
     "output_type": "execute_result"
    }
   ],
   "source": [
    "cmd = etrace(stress(5, 48))\n",
    "print(cmd)\n",
    "stdout = fapi.run(cmd, quiet=True)\n",
    "trace, remainder = skim_trace(stdout)\n",
    "print(remainder)\n",
    "trace"
   ]
  },
  {
   "cell_type": "code",
   "execution_count": 14,
   "metadata": {
    "collapsed": false
   },
   "outputs": [
    {
     "name": "stdout",
     "output_type": "stream",
     "text": [
      "./intercoolr/etrace2  stress --timeout 5s --vm 4\n"
     ]
    },
    {
     "data": {
      "text/plain": [
       "{'elapsed': 4.991194,\n",
       " 'energy': 949.715758,\n",
       " 'energy_dram0': 226.442932,\n",
       " 'energy_dram1': 172.585205,\n",
       " 'energy_socket0': 308.288757,\n",
       " 'energy_socket1': 244.126282,\n",
       " 'etrace2_version': 0.1}"
      ]
     },
     "execution_count": 14,
     "metadata": {},
     "output_type": "execute_result"
    }
   ],
   "source": [
    "cmd = etrace(stress(5, memory=4))\n",
    "print(cmd)\n",
    "stdout = fapi.run(cmd, quiet=True)\n",
    "skim_trace(stdout)[0]"
   ]
  },
  {
   "cell_type": "markdown",
   "metadata": {},
   "source": [
    "# Stats\n",
    "\n",
    "## En bloc"
   ]
  },
  {
   "cell_type": "code",
   "execution_count": 15,
   "metadata": {
    "collapsed": true
   },
   "outputs": [],
   "source": [
    "runs = []\n",
    "t = 5\n",
    "for n_cpu in [0, 1, 2, 6, 12, 18, 24, 36, 48, 60]:\n",
    "    if n_cpu > 0:\n",
    "        cmd = stress(t, n_cpu)\n",
    "    else:\n",
    "        cmd = 'sleep {}'.format(t)\n",
    "    stdout = fapi.run(etrace(cmd), quiet=True)\n",
    "    trace, _ = skim_trace(stdout)\n",
    "    trace['n_cpu'] = n_cpu\n",
    "    runs.append(trace)"
   ]
  },
  {
   "cell_type": "code",
   "execution_count": 16,
   "metadata": {
    "collapsed": false
   },
   "outputs": [
    {
     "data": {
      "text/plain": [
       "<matplotlib.text.Text at 0x104b6f9b0>"
      ]
     },
     "execution_count": 16,
     "metadata": {},
     "output_type": "execute_result"
    },
    {
     "data": {
      "image/png": "[encoded data removed]",
      "text/plain": [
       "<matplotlib.figure.Figure at 0x104b43400>"
      ]
     },
     "metadata": {},
     "output_type": "display_data"
    }
   ],
   "source": [
    "def socket_power(run):\n",
    "    return (run['energy_socket0'] + run['energy_socket1']) / run['elapsed']\n",
    "\n",
    "f, ax = plt.subplots()\n",
    "workers, sockets_power = zip(*((r['n_cpu'], socket_power(r)) for r in runs))\n",
    "ax.plot(workers, sockets_power, 'o')\n",
    "ax.set_xlabel('CPU Hogs')\n",
    "ax.set_ylabel('CPU Power (W)')"
   ]
  },
  {
   "cell_type": "markdown",
   "metadata": {},
   "source": [
    "## With timepoints"
   ]
  },
  {
   "cell_type": "code",
   "execution_count": 17,
   "metadata": {
    "collapsed": true
   },
   "outputs": [],
   "source": [
    "runs = {}\n",
    "for n_cpu in [1, 6, 24, 100]:\n",
    "    runs[n_cpu] = fapi.run(etrace(stress(10, n_cpu), extra='-i 0.25'), quiet=True)"
   ]
  },
  {
   "cell_type": "code",
   "execution_count": 18,
   "metadata": {
    "collapsed": true
   },
   "outputs": [],
   "source": [
    "def extract_values(out):\n",
    "    points = []\n",
    "    for line in out.splitlines():\n",
    "        try:\n",
    "            values = [float(x) for x in line.split()]\n",
    "        except ValueError:\n",
    "            continue\n",
    "        if len(values) != 3:\n",
    "            continue\n",
    "        points.append(values)\n",
    "    return points"
   ]
  },
  {
   "cell_type": "code",
   "execution_count": 19,
   "metadata": {
    "collapsed": false
   },
   "outputs": [
    {
     "data": {
      "text/plain": [
       "<matplotlib.legend.Legend at 0x104d05a90>"
      ]
     },
     "execution_count": 19,
     "metadata": {},
     "output_type": "execute_result"
    },
    {
     "data": {
      "image/png": "[encoded data removed]",
      "text/plain": [
       "<matplotlib.figure.Figure at 0x104bc1898>"
      ]
     },
     "metadata": {},
     "output_type": "display_data"
    }
   ],
   "source": [
    "f, ax = plt.subplots()\n",
    "\n",
    "for n_cpu, run in runs.items():\n",
    "    time_points = extract_values(run)\n",
    "    t, p, e = zip(*time_points)\n",
    "    trel = [tx - t[0] for tx in t]\n",
    "    \n",
    "    ax.plot(trel, p, label='{} hogs'.format(n_cpu))\n",
    "    \n",
    "ax.set_xlabel('Time (s)')\n",
    "ax.set_ylabel('CPU + DRAM Power (W)')\n",
    "ax.legend()"
   ]
  },
  {
   "cell_type": "code",
   "execution_count": 20,
   "metadata": {
    "collapsed": false
   },
   "outputs": [
    {
     "name": "stdout",
     "output_type": "stream",
     "text": [
      "Disconnecting from 129.114.109.207... done.\n"
     ]
    }
   ],
   "source": [
    "fnet.disconnect_all()"
   ]
  },
  {
   "cell_type": "code",
   "execution_count": null,
   "metadata": {
    "collapsed": true
   },
   "outputs": [],
   "source": []
  }
 ],
 "metadata": {
  "kernelspec": {
   "display_name": "CPython 3.6.0rc1",
   "language": "python",
   "name": "py36"
  },
  "language_info": {
   "codemirror_mode": {
    "name": "ipython",
    "version": 3
   },
   "file_extension": ".py",
   "mimetype": "text/x-python",
   "name": "python",
   "nbconvert_exporter": "python",
   "pygments_lexer": "ipython3",
   "version": "3.6.0rc1"
  }
 },
 "nbformat": 4,
 "nbformat_minor": 0
}
